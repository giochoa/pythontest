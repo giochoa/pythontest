{
 "cells": [
  {
   "cell_type": "code",
   "execution_count": 1,
   "id": "bd621eb9",
   "metadata": {},
   "outputs": [],
   "source": [
    "from sklearn.datasets import load_iris\n",
    "iris = load_iris()"
   ]
  },
  {
   "cell_type": "code",
   "execution_count": 3,
   "id": "a96ecb5e",
   "metadata": {},
   "outputs": [
    {
     "data": {
      "text/plain": [
       "array(['setosa', 'versicolor', 'virginica'], dtype='<U10')"
      ]
     },
     "execution_count": 3,
     "metadata": {},
     "output_type": "execute_result"
    }
   ],
   "source": [
    "X = iris.data #input\n",
    "y = iris.target # output/answer\n",
    "\n",
    "feature_names = iris.feature_names\n",
    "target_names = iris.target_names\n",
    "\n",
    "feature_names\n",
    "target_names"
   ]
  },
  {
   "cell_type": "code",
   "execution_count": 4,
   "id": "463bc6fc",
   "metadata": {},
   "outputs": [
    {
     "name": "stdout",
     "output_type": "stream",
     "text": [
      "(90, 4)\n",
      "(60, 4)\n"
     ]
    }
   ],
   "source": [
    "from sklearn.model_selection import train_test_split\n",
    "\n",
    "X_train, X_test, y_train, y_test = train_test_split(X, y, test_size=0.4)#this function will give us an arrays\n",
    "#of data sets we asked for like above where we ask for train and test data sets. test_size is the ratio(train/test)\n",
    "\n",
    "print(X_train.shape)#this will spit out the number of columns and rows we have in\n",
    "print(X_test.shape)# our data(train and test) with left is the row and column on the right"
   ]
  },
  {
   "cell_type": "code",
   "execution_count": 6,
   "id": "e52f8700",
   "metadata": {},
   "outputs": [],
   "source": [
    "from sklearn.neighbors import KNeighborsClassifier\n",
    "\n",
    "knn = KNeighborsClassifier(n_neighbors=3)#the number of datapoints to be observed to decide the output\n",
    "knn.fit(X_train, y_train)#Letting the model fit the data to understand it\n",
    "y_pred = knn.predict(X_test)"
   ]
  },
  {
   "cell_type": "code",
   "execution_count": 7,
   "id": "72218e1e",
   "metadata": {},
   "outputs": [
    {
     "name": "stdout",
     "output_type": "stream",
     "text": [
      "0.9833333333333333\n"
     ]
    }
   ],
   "source": [
    "from sklearn import metrics\n",
    "print(metrics.accuracy_score(y_test, y_pred))"
   ]
  },
  {
   "cell_type": "code",
   "execution_count": 8,
   "id": "6bf9ec10",
   "metadata": {},
   "outputs": [
    {
     "name": "stdout",
     "output_type": "stream",
     "text": [
      "['setosa', 'versicolor']\n"
     ]
    }
   ],
   "source": [
    "sample_data = [[5, 4, 2, 2], [3,3,3,2]]\n",
    "\n",
    "predictions = knn.predict(sample_data)\n",
    "pred_species = [iris.target_names[p] for p in predictions]\n",
    "print(pred_species)"
   ]
  },
  {
   "cell_type": "code",
   "execution_count": null,
   "id": "60e2e065",
   "metadata": {},
   "outputs": [],
   "source": []
  }
 ],
 "metadata": {
  "kernelspec": {
   "display_name": "Python 3 (ipykernel)",
   "language": "python",
   "name": "python3"
  },
  "language_info": {
   "codemirror_mode": {
    "name": "ipython",
    "version": 3
   },
   "file_extension": ".py",
   "mimetype": "text/x-python",
   "name": "python",
   "nbconvert_exporter": "python",
   "pygments_lexer": "ipython3",
   "version": "3.9.7"
  }
 },
 "nbformat": 4,
 "nbformat_minor": 5
}
